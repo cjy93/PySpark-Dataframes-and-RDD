{
 "cells": [
  {
   "cell_type": "code",
   "execution_count": 1,
   "metadata": {},
   "outputs": [],
   "source": [
    "f = \"1903.json\"\n",
    "# use multiline because each json record is split into many lines as can be seen in notepad++\n",
    "df = spark.read.format(\"json\").option(\"multiLine\", True).option(\"header\" , \"true\").option(\"inferSchema\", \"true\").load(f)\n",
    "\n"
   ]
  },
  {
   "cell_type": "code",
   "execution_count": 2,
   "metadata": {},
   "outputs": [
    {
     "name": "stdout",
     "output_type": "stream",
     "text": [
      "root\n",
      " |-- Result: array (nullable = true)\n",
      " |    |-- element: struct (containsNull = true)\n",
      " |    |    |-- developer: string (nullable = true)\n",
      " |    |    |-- developerSales: array (nullable = true)\n",
      " |    |    |    |-- element: struct (containsNull = true)\n",
      " |    |    |    |    |-- highestPrice: long (nullable = true)\n",
      " |    |    |    |    |-- launchedInMonth: long (nullable = true)\n",
      " |    |    |    |    |-- launchedToDate: long (nullable = true)\n",
      " |    |    |    |    |-- lowestPrice: long (nullable = true)\n",
      " |    |    |    |    |-- medianPrice: long (nullable = true)\n",
      " |    |    |    |    |-- refPeriod: string (nullable = true)\n",
      " |    |    |    |    |-- soldInMonth: long (nullable = true)\n",
      " |    |    |    |    |-- soldToDate: long (nullable = true)\n",
      " |    |    |    |    |-- unitsAvail: long (nullable = true)\n",
      " |    |    |-- district: string (nullable = true)\n",
      " |    |    |-- marketSegment: string (nullable = true)\n",
      " |    |    |-- project: string (nullable = true)\n",
      " |    |    |-- propertyType: string (nullable = true)\n",
      " |    |    |-- street: string (nullable = true)\n",
      " |    |    |-- x: string (nullable = true)\n",
      " |    |    |-- y: string (nullable = true)\n",
      " |-- Status: string (nullable = true)\n",
      "\n"
     ]
    }
   ],
   "source": [
    "df.printSchema()"
   ]
  },
  {
   "cell_type": "code",
   "execution_count": 3,
   "metadata": {},
   "outputs": [
    {
     "name": "stdout",
     "output_type": "stream",
     "text": [
      "root\n",
      " |-- R: struct (nullable = true)\n",
      " |    |-- developer: string (nullable = true)\n",
      " |    |-- developerSales: array (nullable = true)\n",
      " |    |    |-- element: struct (containsNull = true)\n",
      " |    |    |    |-- highestPrice: long (nullable = true)\n",
      " |    |    |    |-- launchedInMonth: long (nullable = true)\n",
      " |    |    |    |-- launchedToDate: long (nullable = true)\n",
      " |    |    |    |-- lowestPrice: long (nullable = true)\n",
      " |    |    |    |-- medianPrice: long (nullable = true)\n",
      " |    |    |    |-- refPeriod: string (nullable = true)\n",
      " |    |    |    |-- soldInMonth: long (nullable = true)\n",
      " |    |    |    |-- soldToDate: long (nullable = true)\n",
      " |    |    |    |-- unitsAvail: long (nullable = true)\n",
      " |    |-- district: string (nullable = true)\n",
      " |    |-- marketSegment: string (nullable = true)\n",
      " |    |-- project: string (nullable = true)\n",
      " |    |-- propertyType: string (nullable = true)\n",
      " |    |-- street: string (nullable = true)\n",
      " |    |-- x: string (nullable = true)\n",
      " |    |-- y: string (nullable = true)\n",
      "\n"
     ]
    }
   ],
   "source": [
    "# Now we want to explode 2 times to enter into developerSales so later we get the dataframe at developerSales level\n",
    "from pyspark.sql.functions import explode\n",
    "\n",
    "df2 = df.select(explode(df.Result).alias(\"R\"))\n",
    "df2.printSchema()\n",
    "\n"
   ]
  },
  {
   "cell_type": "code",
   "execution_count": 4,
   "metadata": {},
   "outputs": [
    {
     "name": "stdout",
     "output_type": "stream",
     "text": [
      "root\n",
      " |-- R: struct (nullable = true)\n",
      " |    |-- developer: string (nullable = true)\n",
      " |    |-- developerSales: array (nullable = true)\n",
      " |    |    |-- element: struct (containsNull = true)\n",
      " |    |    |    |-- highestPrice: long (nullable = true)\n",
      " |    |    |    |-- launchedInMonth: long (nullable = true)\n",
      " |    |    |    |-- launchedToDate: long (nullable = true)\n",
      " |    |    |    |-- lowestPrice: long (nullable = true)\n",
      " |    |    |    |-- medianPrice: long (nullable = true)\n",
      " |    |    |    |-- refPeriod: string (nullable = true)\n",
      " |    |    |    |-- soldInMonth: long (nullable = true)\n",
      " |    |    |    |-- soldToDate: long (nullable = true)\n",
      " |    |    |    |-- unitsAvail: long (nullable = true)\n",
      " |    |-- district: string (nullable = true)\n",
      " |    |-- marketSegment: string (nullable = true)\n",
      " |    |-- project: string (nullable = true)\n",
      " |    |-- propertyType: string (nullable = true)\n",
      " |    |-- street: string (nullable = true)\n",
      " |    |-- x: string (nullable = true)\n",
      " |    |-- y: string (nullable = true)\n",
      "\n"
     ]
    }
   ],
   "source": [
    "# Now we want to explode 2 times to enter into developerSales so later we get the dataframe at developerSales level\n",
    "from pyspark.sql.functions import explode\n",
    "\n",
    "df2 = df.select(explode(df.Result).alias(\"R\"))\n",
    "df2.printSchema()\n"
   ]
  },
  {
   "cell_type": "code",
   "execution_count": 5,
   "metadata": {},
   "outputs": [
    {
     "name": "stdout",
     "output_type": "stream",
     "text": [
      "root\n",
      " |-- developerSales: struct (nullable = true)\n",
      " |    |-- highestPrice: long (nullable = true)\n",
      " |    |-- launchedInMonth: long (nullable = true)\n",
      " |    |-- launchedToDate: long (nullable = true)\n",
      " |    |-- lowestPrice: long (nullable = true)\n",
      " |    |-- medianPrice: long (nullable = true)\n",
      " |    |-- refPeriod: string (nullable = true)\n",
      " |    |-- soldInMonth: long (nullable = true)\n",
      " |    |-- soldToDate: long (nullable = true)\n",
      " |    |-- unitsAvail: long (nullable = true)\n",
      "\n",
      "+----------------------+------------------+-------------------+------------------+------------------+-----------+\n",
      "|NumUnitsLaunchedToDate|NumUnitsSoldToDate|HighestPricePerSQFT|LowestPricePerSQFT|MediumPricePerSQFT|SoldInMonth|\n",
      "+----------------------+------------------+-------------------+------------------+------------------+-----------+\n",
      "|                    19|                 9|                  0|                 0|                 0|          0|\n",
      "|                   720|               699|                  0|                 0|                 0|          0|\n",
      "|                   200|                77|               1614|              1281|              1434|         77|\n",
      "|                   505|               505|               1455|              1455|              1455|          1|\n",
      "|                     0|                 0|                  0|                 0|                 0|          0|\n",
      "|                   110|                 4|               1517|              1472|              1482|          4|\n",
      "|                     0|                 0|                  0|                 0|                 0|          0|\n",
      "|                   841|               738|               2003|              1897|              1979|          3|\n",
      "|                   400|               318|               2107|              1728|              1918|          2|\n",
      "|                   345|               316|               2847|              2560|              2676|          7|\n",
      "|                    12|                 5|                  0|                 0|                 0|          0|\n",
      "|                   660|               657|                  0|                 0|                 0|          0|\n",
      "|                   504|               503|               1043|               995|              1019|          2|\n",
      "|                     0|                 0|                  0|                 0|                 0|          0|\n",
      "|                    44|                44|               1405|              1405|              1405|          1|\n",
      "|                    16|                11|               1607|              1607|              1607|          1|\n",
      "|                    33|                11|               2175|              2175|              2175|          1|\n",
      "|                    61|                51|               1257|              1213|              1235|          2|\n",
      "|                     0|                 0|                  0|                 0|                 0|          0|\n",
      "|                   628|               628|                  0|                 0|                 0|          0|\n",
      "+----------------------+------------------+-------------------+------------------+------------------+-----------+\n",
      "only showing top 20 rows\n",
      "\n"
     ]
    }
   ],
   "source": [
    "# this is end explosion to enter into developer sales.\n",
    "# cannot just do 1 explosion of df.Result.developerSales, because it will endup as struct is array\n",
    "df3= df2.select(explode(df2.R.developerSales).alias(\"developerSales\"))\n",
    "df3.printSchema()\n",
    "df4 = df3.select(df3.developerSales.launchedToDate.alias(\"NumUnitsLaunchedToDate\"), \\\n",
    "                df3.developerSales.soldToDate.alias(\"NumUnitsSoldToDate\"), \\\n",
    "                df3.developerSales.highestPrice.alias(\"HighestPricePerSQFT\"), \\\n",
    "                df3.developerSales.lowestPrice.alias(\"LowestPricePerSQFT\"), \\\n",
    "                df3.developerSales.medianPrice.alias(\"MediumPricePerSQFT\"), \\\n",
    "                df3.developerSales.soldInMonth.alias(\"SoldInMonth\"))\n",
    "df4.show()"
   ]
  },
  {
   "cell_type": "code",
   "execution_count": 6,
   "metadata": {},
   "outputs": [
    {
     "name": "stdout",
     "output_type": "stream",
     "text": [
      "+----------------------+------------------+-------------------+------------------+------------------+-----------+--------------+\n",
      "|NumUnitsLaunchedToDate|NumUnitsSoldToDate|HighestPricePerSQFT|LowestPricePerSQFT|MediumPricePerSQFT|SoldInMonth|PercentageSold|\n",
      "+----------------------+------------------+-------------------+------------------+------------------+-----------+--------------+\n",
      "|                    19|                 9|                  0|                 0|                 0|          0|         47.37|\n",
      "|                   720|               699|                  0|                 0|                 0|          0|         97.08|\n",
      "|                   200|                77|               1614|              1281|              1434|         77|          38.5|\n",
      "|                   505|               505|               1455|              1455|              1455|          1|         100.0|\n",
      "|                     0|                 0|                  0|                 0|                 0|          0|          null|\n",
      "|                   110|                 4|               1517|              1472|              1482|          4|          3.64|\n",
      "|                     0|                 0|                  0|                 0|                 0|          0|          null|\n",
      "|                   841|               738|               2003|              1897|              1979|          3|         87.75|\n",
      "|                   400|               318|               2107|              1728|              1918|          2|          79.5|\n",
      "|                   345|               316|               2847|              2560|              2676|          7|         91.59|\n",
      "|                    12|                 5|                  0|                 0|                 0|          0|         41.67|\n",
      "|                   660|               657|                  0|                 0|                 0|          0|         99.55|\n",
      "|                   504|               503|               1043|               995|              1019|          2|          99.8|\n",
      "|                     0|                 0|                  0|                 0|                 0|          0|          null|\n",
      "|                    44|                44|               1405|              1405|              1405|          1|         100.0|\n",
      "|                    16|                11|               1607|              1607|              1607|          1|         68.75|\n",
      "|                    33|                11|               2175|              2175|              2175|          1|         33.33|\n",
      "|                    61|                51|               1257|              1213|              1235|          2|         83.61|\n",
      "|                     0|                 0|                  0|                 0|                 0|          0|          null|\n",
      "|                   628|               628|                  0|                 0|                 0|          0|         100.0|\n",
      "+----------------------+------------------+-------------------+------------------+------------------+-----------+--------------+\n",
      "only showing top 20 rows\n",
      "\n"
     ]
    }
   ],
   "source": [
    "# calculate PercentageSold\n",
    "import pyspark.sql.functions as func\n",
    "df5 = df4.withColumn(\"PercentageSold\",(df4[\"NumUnitsSoldToDate\"]/df4[\"NumUnitsLaunchedToDate\"])*100)\n",
    "# round 'PercentageSold' in a new column:\n",
    "# https://stackoverflow.com/questions/47046827/trouble-with-pyspark-round-function\n",
    "df5 = df5.withColumn(\"PercentageSold\", func.round(df5[\"PercentageSold\"], 2))\n",
    "\n",
    "df5.show()"
   ]
  },
  {
   "cell_type": "code",
   "execution_count": 7,
   "metadata": {},
   "outputs": [
    {
     "name": "stdout",
     "output_type": "stream",
     "text": [
      "+----------------------+------------------+-------------------+------------------+------------------+-----------+--------------+---+\n",
      "|NumUnitsLaunchedToDate|NumUnitsSoldToDate|HighestPricePerSQFT|LowestPricePerSQFT|MediumPricePerSQFT|SoldInMonth|PercentageSold| id|\n",
      "+----------------------+------------------+-------------------+------------------+------------------+-----------+--------------+---+\n",
      "|                    19|                 9|                  0|                 0|                 0|          0|         47.37|  0|\n",
      "|                   720|               699|                  0|                 0|                 0|          0|         97.08|  1|\n",
      "|                   200|                77|               1614|              1281|              1434|         77|          38.5|  2|\n",
      "|                   505|               505|               1455|              1455|              1455|          1|         100.0|  3|\n",
      "|                     0|                 0|                  0|                 0|                 0|          0|          null|  4|\n",
      "|                   110|                 4|               1517|              1472|              1482|          4|          3.64|  5|\n",
      "|                     0|                 0|                  0|                 0|                 0|          0|          null|  6|\n",
      "|                   841|               738|               2003|              1897|              1979|          3|         87.75|  7|\n",
      "|                   400|               318|               2107|              1728|              1918|          2|          79.5|  8|\n",
      "|                   345|               316|               2847|              2560|              2676|          7|         91.59|  9|\n",
      "|                    12|                 5|                  0|                 0|                 0|          0|         41.67| 10|\n",
      "|                   660|               657|                  0|                 0|                 0|          0|         99.55| 11|\n",
      "|                   504|               503|               1043|               995|              1019|          2|          99.8| 12|\n",
      "|                     0|                 0|                  0|                 0|                 0|          0|          null| 13|\n",
      "|                    44|                44|               1405|              1405|              1405|          1|         100.0| 14|\n",
      "|                    16|                11|               1607|              1607|              1607|          1|         68.75| 15|\n",
      "|                    33|                11|               2175|              2175|              2175|          1|         33.33| 16|\n",
      "|                    61|                51|               1257|              1213|              1235|          2|         83.61| 17|\n",
      "|                     0|                 0|                  0|                 0|                 0|          0|          null| 18|\n",
      "|                   628|               628|                  0|                 0|                 0|          0|         100.0| 19|\n",
      "+----------------------+------------------+-------------------+------------------+------------------+-----------+--------------+---+\n",
      "only showing top 20 rows\n",
      "\n"
     ]
    },
    {
     "data": {
      "text/plain": [
       "131"
      ]
     },
     "execution_count": 7,
     "metadata": {},
     "output_type": "execute_result"
    }
   ],
   "source": [
    "# add a key to this table because this table is made from the json exploded 2 levels, but other\n",
    "# values we draw like Project and District are exploded 1 level in, so there is no connection\n",
    "\n",
    "from pyspark.sql.functions import monotonically_increasing_id\n",
    "df6 = df5.select(\"*\").withColumn(\"id\", monotonically_increasing_id())\n",
    "df6.show()\n",
    "df6.count()"
   ]
  },
  {
   "cell_type": "code",
   "execution_count": 8,
   "metadata": {},
   "outputs": [
    {
     "name": "stdout",
     "output_type": "stream",
     "text": [
      "+--------------------+--------+--------------------+-------------+-------------+---+\n",
      "|             Project|District|              Street|MarketSegment| PropertyType| id|\n",
      "+--------------------+--------+--------------------+-------------+-------------+---+\n",
      "|   CAYMAN RESIDENCES|      15|   EAST COAST AVENUE|          OCR|       Landed|  0|\n",
      "|GRANDEUR PARK RES...|      16|BEDOK SOUTH AVENUE 3|          OCR|   Non-Landed|  1|\n",
      "|THE FLORENCE RESI...|      19|    HOUGANG AVENUE 2|          OCR|   Non-Landed|  2|\n",
      "|  THE CLEMENT CANOPY|      05|   CLEMENTI AVENUE 1|          OCR|   Non-Landed|  3|\n",
      "|COASTLINE RESIDENCES|      15|          AMBER ROAD|          RCR|   Non-Landed|  4|\n",
      "|             REZI 24|      14|   LORONG 24 GEYLANG|          RCR|   Non-Landed|  5|\n",
      "|THE GREEN COLLECTION|      04|          COVE DRIVE|          CCR|Strata-Landed|  6|\n",
      "|  SEASIDE RESIDENCES|      15|         SIGLAP LINK|          OCR|   Non-Landed|  7|\n",
      "|               ARTRA|      03|      ALEXANDRA VIEW|          RCR|   Non-Landed|  8|\n",
      "|       MARTIN MODERN|      09|        MARTIN PLACE|          CCR|   Non-Landed|  9|\n",
      "|          HILLSGROVE|      19|      HILLSIDE DRIVE|          OCR|Strata-Landed| 10|\n",
      "|      DUO RESIDENCES|      07|       FRASER STREET|          CCR|   Non-Landed| 11|\n",
      "|      TREASURE CREST|      19| ANCHORVALE CRESCENT|          OCR|   Exec Condo| 12|\n",
      "|     ROOTS @ TRANSIT|      26|        TRANSIT ROAD|          OCR|   Non-Landed| 13|\n",
      "|             REZI 35|      14|   LORONG 35 GEYLANG|          RCR|   Non-Landed| 14|\n",
      "|CARPMAEL THIRTY-E...|      15|       CARPMAEL ROAD|          RCR|   Non-Landed| 15|\n",
      "|                  M5|      10|       JALAN MUTIARA|          CCR|   Non-Landed| 16|\n",
      "|    KANDIS RESIDENCE|      27|         KANDIS LINK|          OCR|   Non-Landed| 17|\n",
      "|LANDED HOUSING DE...|      11|         LORNIE ROAD|          CCR|       Landed| 18|\n",
      "|           PARC LIFE|      27|  SEMBAWANG CRESCENT|          OCR|   Exec Condo| 19|\n",
      "+--------------------+--------+--------------------+-------------+-------------+---+\n",
      "only showing top 20 rows\n",
      "\n"
     ]
    },
    {
     "data": {
      "text/plain": [
       "131"
      ]
     },
     "execution_count": 8,
     "metadata": {},
     "output_type": "execute_result"
    }
   ],
   "source": [
    "# now explode only the layer of \"Result\", which is df2 above\n",
    "df7 = df2.select(df2.R.project.alias(\"Project\"),df2.R.district.alias(\"District\"), df2.R.street.alias(\"Street\"),\\\n",
    "                 df2.R.marketSegment.alias(\"MarketSegment\"), \\\n",
    "                 df2.R.propertyType.alias(\"PropertyType\"))\n",
    "df8 = df7.select(\"*\").withColumn(\"id\", monotonically_increasing_id())\n",
    "df8.show()\n",
    "df8.count()"
   ]
  },
  {
   "cell_type": "code",
   "execution_count": 9,
   "metadata": {},
   "outputs": [
    {
     "name": "stdout",
     "output_type": "stream",
     "text": [
      "root\n",
      " |-- Project: string (nullable = true)\n",
      " |-- PercentageSold: double (nullable = true)\n",
      " |-- NumUnitsLaunchedToDate: long (nullable = true)\n",
      " |-- NumUnitsSoldToDate: long (nullable = true)\n",
      " |-- District: string (nullable = true)\n",
      " |-- Street: string (nullable = true)\n",
      " |-- HighestPricePerSQFT: long (nullable = true)\n",
      " |-- LowestPricePerSQFT: long (nullable = true)\n",
      " |-- MediumPricePerSQFT: long (nullable = true)\n",
      " |-- MarketSegment: string (nullable = true)\n",
      " |-- SoldInMonth: long (nullable = true)\n",
      "\n"
     ]
    }
   ],
   "source": [
    "# joining df6 and df8 by the id key\n",
    "df_final = df6.join(df8, df8[\"id\"] == df6[\"id\"])\n",
    "df_final= df_final.select(\"Project\",\"PercentageSold\",\"NumUnitsLaunchedToDate\",\n",
    "                          \"NumUnitsSoldToDate\",\"District\",\"Street\", \n",
    "                          \"HighestPricePerSQFT\",\n",
    "                          \"LowestPricePerSQFT\",\n",
    "                          \"MediumPricePerSQFT\",\n",
    "                          \"MarketSegment\",\n",
    "                          \"SoldInMonth\")\n",
    "\n",
    "df_final.printSchema()"
   ]
  },
  {
   "cell_type": "code",
   "execution_count": 10,
   "metadata": {},
   "outputs": [
    {
     "name": "stdout",
     "output_type": "stream",
     "text": [
      "root\n",
      " |-- Project: string (nullable = true)\n",
      " |-- PercentageSold: double (nullable = true)\n",
      " |-- NumUnitsLaunchedToDate: integer (nullable = true)\n",
      " |-- NumUnitsSoldToDate: integer (nullable = true)\n",
      " |-- District: integer (nullable = true)\n",
      " |-- Street: string (nullable = true)\n",
      " |-- HighestPricePerSQFT: double (nullable = true)\n",
      " |-- LowestPricePerSQFT: double (nullable = true)\n",
      " |-- MediumPricePerSQFT: double (nullable = true)\n",
      " |-- MarketSegment: string (nullable = true)\n",
      " |-- SoldInMonth: integer (nullable = true)\n",
      "\n"
     ]
    }
   ],
   "source": [
    "# cast the datatype according to the specs\n",
    "df_final = df_final.withColumn(\"NumUnitsLaunchedToDate\", df_final['NumUnitsLaunchedToDate'].cast(\"int\"))\n",
    "df_final = df_final.withColumn(\"NumUnitsSoldToDate\", df_final['NumUnitsSoldToDate'].cast(\"int\"))\n",
    "df_final = df_final.withColumn(\"District\", df_final['District'].cast(\"int\"))\n",
    "df_final = df_final.withColumn(\"HighestPricePerSQFT\", df_final['District'].cast(\"double\"))\n",
    "df_final = df_final.withColumn(\"LowestPricePerSQFT\", df_final['District'].cast(\"double\"))\n",
    "df_final = df_final.withColumn(\"MediumPricePerSQFT\", df_final['District'].cast(\"double\"))\n",
    "df_final = df_final.withColumn(\"SoldInMonth\", df_final['SoldInMonth'].cast(\"int\"))\n",
    "df_final.printSchema()"
   ]
  },
  {
   "cell_type": "code",
   "execution_count": 11,
   "metadata": {},
   "outputs": [
    {
     "name": "stdout",
     "output_type": "stream",
     "text": [
      "+--------------------+--------------+----------------------+------------------+--------+--------------------+-------------------+------------------+------------------+-------------+-----------+\n",
      "|             Project|PercentageSold|NumUnitsLaunchedToDate|NumUnitsSoldToDate|District|              Street|HighestPricePerSQFT|LowestPricePerSQFT|MediumPricePerSQFT|MarketSegment|SoldInMonth|\n",
      "+--------------------+--------------+----------------------+------------------+--------+--------------------+-------------------+------------------+------------------+-------------+-----------+\n",
      "|   CAYMAN RESIDENCES|         47.37|                    19|                 9|      15|   EAST COAST AVENUE|               15.0|              15.0|              15.0|          OCR|          0|\n",
      "|GRANDEUR PARK RES...|         97.08|                   720|               699|      16|BEDOK SOUTH AVENUE 3|               16.0|              16.0|              16.0|          OCR|          0|\n",
      "|THE FLORENCE RESI...|          38.5|                   200|                77|      19|    HOUGANG AVENUE 2|               19.0|              19.0|              19.0|          OCR|         77|\n",
      "|  THE CLEMENT CANOPY|         100.0|                   505|               505|       5|   CLEMENTI AVENUE 1|                5.0|               5.0|               5.0|          OCR|          1|\n",
      "|             REZI 24|          3.64|                   110|                 4|      14|   LORONG 24 GEYLANG|               14.0|              14.0|              14.0|          RCR|          4|\n",
      "|  SEASIDE RESIDENCES|         87.75|                   841|               738|      15|         SIGLAP LINK|               15.0|              15.0|              15.0|          OCR|          3|\n",
      "|               ARTRA|          79.5|                   400|               318|       3|      ALEXANDRA VIEW|                3.0|               3.0|               3.0|          RCR|          2|\n",
      "|       MARTIN MODERN|         91.59|                   345|               316|       9|        MARTIN PLACE|                9.0|               9.0|               9.0|          CCR|          7|\n",
      "|          HILLSGROVE|         41.67|                    12|                 5|      19|      HILLSIDE DRIVE|               19.0|              19.0|              19.0|          OCR|          0|\n",
      "|      DUO RESIDENCES|         99.55|                   660|               657|       7|       FRASER STREET|                7.0|               7.0|               7.0|          CCR|          0|\n",
      "|      TREASURE CREST|          99.8|                   504|               503|      19| ANCHORVALE CRESCENT|               19.0|              19.0|              19.0|          OCR|          2|\n",
      "|             REZI 35|         100.0|                    44|                44|      14|   LORONG 35 GEYLANG|               14.0|              14.0|              14.0|          RCR|          1|\n",
      "|CARPMAEL THIRTY-E...|         68.75|                    16|                11|      15|       CARPMAEL ROAD|               15.0|              15.0|              15.0|          RCR|          1|\n",
      "|                  M5|         33.33|                    33|                11|      10|       JALAN MUTIARA|               10.0|              10.0|              10.0|          CCR|          1|\n",
      "|    KANDIS RESIDENCE|         83.61|                    61|                51|      27|         KANDIS LINK|               27.0|              27.0|              27.0|          OCR|          2|\n",
      "|           PARC LIFE|         100.0|                   628|               628|      27|  SEMBAWANG CRESCENT|               27.0|              27.0|              27.0|          OCR|          0|\n",
      "|          ASPEN LINQ|         94.44|                    18|                17|       9|    INSTITUTION HILL|                9.0|               9.0|               9.0|          CCR|          0|\n",
      "|         SANDY EIGHT|          70.0|                    20|                14|      15|          SANDY LANE|               15.0|              15.0|              15.0|          RCR|          1|\n",
      "|        ASCENT @ 456|         96.43|                    28|                27|      12|      BALESTIER ROAD|               12.0|              12.0|              12.0|          RCR|          0|\n",
      "| THE POIZ RESIDENCES|         99.45|                   731|               727|      13|MEYAPPA CHETTIAR ...|               13.0|              13.0|              13.0|          RCR|          0|\n",
      "+--------------------+--------------+----------------------+------------------+--------+--------------------+-------------------+------------------+------------------+-------------+-----------+\n",
      "only showing top 20 rows\n",
      "\n"
     ]
    }
   ],
   "source": [
    "# Run SQL queries on Dataframe: filter top 20\n",
    "# Register the DataFrame as a SQL temporary view\n",
    "df_final.createOrReplaceTempView(\"privateProperties2\")\n",
    "\n",
    "sqlDF = spark.sql(\"SELECT * FROM privateProperties2 \\\n",
    "WHERE PercentageSold IS NOT NULL\")\n",
    "sqlDF.show()\n"
   ]
  },
  {
   "cell_type": "code",
   "execution_count": 12,
   "metadata": {},
   "outputs": [],
   "source": [
    "# save the final dataframe\n",
    "sqlDF.repartition(1).write.format(\"csv\").option(\"header\",\"true\").mode(\"overwrite\").save(\"All_Unsold_PrivateProperties_bonus.csv\")\n"
   ]
  },
  {
   "cell_type": "code",
   "execution_count": null,
   "metadata": {},
   "outputs": [],
   "source": []
  }
 ],
 "metadata": {
  "kernelspec": {
   "display_name": "Python 3",
   "language": "python",
   "name": "python3"
  },
  "language_info": {
   "codemirror_mode": {
    "name": "ipython",
    "version": 3
   },
   "file_extension": ".py",
   "mimetype": "text/x-python",
   "name": "python",
   "nbconvert_exporter": "python",
   "pygments_lexer": "ipython3",
   "version": "3.7.1"
  }
 },
 "nbformat": 4,
 "nbformat_minor": 2
}
