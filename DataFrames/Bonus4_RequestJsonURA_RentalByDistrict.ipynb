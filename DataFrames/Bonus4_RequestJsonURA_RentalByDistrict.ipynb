{
 "cells": [
  {
   "cell_type": "code",
   "execution_count": 19,
   "metadata": {},
   "outputs": [
    {
     "name": "stdout",
     "output_type": "stream",
     "text": [
      "<class 'bytes'>\n"
     ]
    }
   ],
   "source": [
    "'''\n",
    "Go to URA API request for json for \"Private Residential Properties Rental Contract\"\n",
    "Note : Lecturer gave dataset for \"Private Residential Property Units Sold by Developers\"\n",
    "'''\n",
    "import urllib.request\n",
    "url = \"https://www.ura.gov.sg/uraDataService/invokeUraDS?service=PMI_Resi_Rental&refPeriod=18q1\"\n",
    "\n",
    "accessKey = 'caadb353-c45e-4a3e-98bb-8cd28b9a727b'\n",
    "token = 'm37nc-e-wMd4bP3753jma5+WSpb72Dpq3+d9ac+Wa-9dzsm8Ubu8TGeeVBcSqtcXp8jb2bca7aMbC4xaRJjeXrd-454ghuHEhpn3'\n",
    "hdr = { 'AccessKey' : accessKey, 'Token': token }\n",
    "\n",
    "req = urllib.request.Request(url, headers=hdr)\n",
    "response = urllib.request.urlopen(req)\n",
    "#print(response)\n",
    "lines = response.read()\n",
    "\n",
    "print(type(lines))\n"
   ]
  },
  {
   "cell_type": "code",
   "execution_count": 20,
   "metadata": {},
   "outputs": [
    {
     "name": "stdout",
     "output_type": "stream",
     "text": [
      "{\"Result\":[{\"project\":\"ELLIOT AT THE EAST COAST\",\"street\":\"ELLIOT ROAD\",\"rental\":[{\"leaseDate\":\"0118\n"
     ]
    }
   ],
   "source": [
    "'''\n",
    "Convert byte objects to string. Followed by saving to a text file which is also a json file.\n",
    "Note we limited the import of the data only from 2018 to 2019\n",
    "'''\n",
    "strLines = lines.decode('utf-8')\n",
    "print(strLines[0:100])\n",
    "\n",
    "\n",
    "with open(\"1906_rental.json\", \"w\") as text_file:\n",
    "    text_file.write(strLines)"
   ]
  },
  {
   "cell_type": "code",
   "execution_count": null,
   "metadata": {},
   "outputs": [],
   "source": []
  }
 ],
 "metadata": {
  "kernelspec": {
   "display_name": "Python 3",
   "language": "python",
   "name": "python3"
  },
  "language_info": {
   "codemirror_mode": {
    "name": "ipython",
    "version": 3
   },
   "file_extension": ".py",
   "mimetype": "text/x-python",
   "name": "python",
   "nbconvert_exporter": "python",
   "pygments_lexer": "ipython3",
   "version": "3.7.1"
  }
 },
 "nbformat": 4,
 "nbformat_minor": 2
}
